{
 "cells": [
  {
   "cell_type": "code",
   "execution_count": 1,
   "metadata": {},
   "outputs": [],
   "source": [
    "import gym\n",
    "import numpy as np\n",
    "import random"
   ]
  },
  {
   "cell_type": "code",
   "execution_count": null,
   "metadata": {},
   "outputs": [],
   "source": [
    "env_name=str(input('Enter Any Enviornment Name  '))\n",
    "env=gym.make(env_name)\n",
    "env.reset()"
   ]
  },
  {
   "cell_type": "code",
   "execution_count": null,
   "metadata": {},
   "outputs": [],
   "source": [
    "print(f\" Type of the enviornment is {type(env.action_space)}\")"
   ]
  },
  {
   "cell_type": "code",
   "execution_count": null,
   "metadata": {},
   "outputs": [],
   "source": [
    "class agent():\n",
    "    def __init__(self,env):\n",
    "        self.is_discrete=type(env.action_space)==gym.spaces.discrete.Discrete\n",
    "        if self.is_discrete:\n",
    "            self.action_size=env.action_space.n\n",
    "            print(f'Action_Size {self.action_size}')\n",
    "        else:\n",
    "            self.action_low=env.action_space.low\n",
    "            self.action_high=env.action_space.high\n",
    "            self.action_shape=env.action_space.shape\n",
    "    def get(self,state):\n",
    "        if self.is_discrete:\n",
    "            action=random.choice(range(self.action_size))\n",
    "        else:\n",
    "            action=np.random.uniform(self.action_low,self.action_high,self.action_shape)\n",
    "        return action"
   ]
  },
  {
   "cell_type": "code",
   "execution_count": null,
   "metadata": {},
   "outputs": [],
   "source": [
    "Agent=agent(env)\n",
    "state=env.reset()\n",
    "\n",
    "for _ in range(200):\n",
    "    action=Agent.get(state)\n",
    "    state,reward,done,info=env.step(action)\n",
    "    env.render()"
   ]
  },
  {
   "cell_type": "code",
   "execution_count": null,
   "metadata": {},
   "outputs": [],
   "source": []
  },
  {
   "cell_type": "code",
   "execution_count": null,
   "metadata": {},
   "outputs": [],
   "source": []
  }
 ],
 "metadata": {
  "kernelspec": {
   "display_name": "Python 3",
   "language": "python",
   "name": "python3"
  },
  "language_info": {
   "codemirror_mode": {
    "name": "ipython",
    "version": 3
   },
   "file_extension": ".py",
   "mimetype": "text/x-python",
   "name": "python",
   "nbconvert_exporter": "python",
   "pygments_lexer": "ipython3",
   "version": "3.7.4"
  }
 },
 "nbformat": 4,
 "nbformat_minor": 2
}
